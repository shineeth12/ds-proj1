{
 "cells": [
  {
   "cell_type": "markdown",
   "metadata": {
    "id": "d8NI6eNPm1v2"
   },
   "source": [
    "<center><h1> Bangalore House Price Prediction </h1></center>"
   ]
  },
  {
   "cell_type": "markdown",
   "metadata": {
    "id": "u7JokqH8m1v3"
   },
   "source": [
    "![house_banner.png](data:image/png;base64,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)"
   ]
  },
  {
   "cell_type": "markdown",
   "metadata": {
    "id": "wULe-PlOm1v4"
   },
   "source": [
    "### Description"
   ]
  },
  {
   "cell_type": "markdown",
   "metadata": {
    "id": "ejWQ2GpSm1v4"
   },
   "source": [
    "What are the things that a potential home buyer considers before purchasing a house? The location, the size of the property, vicinity to offices, schools, parks, restaurants, hospitals or the stereotypical white picket fence? What about the most important factor — the price?\n",
    "\n",
    "Now with the lingering impact of demonetization, the enforcement of the Real Estate (Regulation and Development) Act (RERA), and the lack of trust in property developers in the city, housing units sold across India in 2017 dropped by 7 percent. In fact, the property prices in Bengaluru fell by almost 5 percent in the second half of 2017, said a study published by property consultancy Knight Frank.\n",
    "For example, for a potential homeowner, over 9,000 apartment projects and flats for sale are available in the range of ₹42-52 lakh, followed by over 7,100 apartments that are in the ₹52-62 lakh budget segment, says a report by property website Makaan. According to the study, there are over 5,000 projects in the ₹15-25 lakh budget segment followed by those in the ₹34-43 lakh budget category.\n",
    "\n",
    "Buying a home, especially in a city like Bengaluru, is a tricky choice. While the major factors are usually the same for all metros, there are others to be considered for the Silicon Valley of India. With its help millennial crowd, vibrant culture, great climate and a slew of job opportunities, it is difficult to ascertain the price of a house in Bengaluru."
   ]
  },
  {
   "cell_type": "markdown",
   "metadata": {
    "id": "zf1z4ySDm1v9"
   },
   "source": [
    "### Problem Statemtent"
   ]
  },
  {
   "cell_type": "markdown",
   "metadata": {
    "id": "I8eEhkc6m1v9"
   },
   "source": [
    "By analyzing these Bangalore house data we will determine the approximate price for the houses."
   ]
  },
  {
   "cell_type": "markdown",
   "metadata": {
    "id": "_O7rdeAgm1v-"
   },
   "source": [
    "### Data Description"
   ]
  },
  {
   "cell_type": "markdown",
   "metadata": {
    "id": "r5t-B8jNm1v-"
   },
   "source": [
    "Columns:\n",
    "\n",
    "    area_type\n",
    "    availability\n",
    "    location\n",
    "    size\n",
    "    society\n",
    "    total_sqft\n",
    "    bath\n",
    "    balcony\n",
    "    price"
   ]
  },
  {
   "cell_type": "markdown",
   "metadata": {
    "id": "zL7oja_pm1v-"
   },
   "source": [
    "### Business objectives and constraints"
   ]
  },
  {
   "cell_type": "markdown",
   "metadata": {
    "id": "8Le18bclm1wA"
   },
   "source": [
    "1. The cost of a mis-classification can be high.\n",
    "2. There is strict latency concerns.\n",
    "3. From this project we will able to understand how house prices depend on other factors. "
   ]
  },
  {
   "cell_type": "markdown",
   "metadata": {
    "id": "ysFMa2ksm1wB"
   },
   "source": [
    "### Importing Liabraries"
   ]
  },
  {
   "cell_type": "code",
   "execution_count": 2,
   "metadata": {
    "executionInfo": {
     "elapsed": 1468,
     "status": "ok",
     "timestamp": 1601873709636,
     "user": {
      "displayName": "Pianalytix Vrec",
      "photoUrl": "",
      "userId": "08286299111597749388"
     },
     "user_tz": -330
    },
    "id": "0rYf5sBvHwnD"
   },
   "outputs": [],
   "source": [
    "import numpy as np\n",
    "import pandas as pd\n",
    "import matplotlib.pyplot as plt\n",
    "%matplotlib inline\n",
    "import matplotlib \n",
    "matplotlib.rcParams[\"figure.figsize\"] = (20,10)\n",
    "from sklearn.model_selection import GridSearchCV\n",
    "from sklearn.linear_model import Lasso\n",
    "from sklearn.tree import DecisionTreeRegressor\n",
    "from sklearn.model_selection import train_test_split\n",
    "from sklearn.linear_model import LinearRegression\n",
    "from sklearn.model_selection import ShuffleSplit\n",
    "from sklearn.model_selection import cross_val_score"
   ]
  },
  {
   "cell_type": "markdown",
   "metadata": {
    "id": "LoX3anzdL78E"
   },
   "source": [
    "### Mounting the GDrive"
   ]
  },
  {
   "cell_type": "code",
   "execution_count": null,
   "metadata": {
    "colab": {
     "base_uri": "https://localhost:8080/",
     "height": 34
    },
    "executionInfo": {
     "elapsed": 24173,
     "status": "ok",
     "timestamp": 1601873738685,
     "user": {
      "displayName": "Pianalytix Vrec",
      "photoUrl": "",
      "userId": "08286299111597749388"
     },
     "user_tz": -330
    },
    "id": "qhOLYxXND4K4",
    "outputId": "53eadfd1-274f-401e-9f3c-91a34512913d"
   },
   "outputs": [],
   "source": []
  },
  {
   "cell_type": "markdown",
   "metadata": {
    "id": "0QbJYoOJHwnK"
   },
   "source": [
    "### Reading the Data from the CSV file"
   ]
  },
  {
   "cell_type": "code",
   "execution_count": 4,
   "metadata": {
    "colab": {
     "base_uri": "https://localhost:8080/",
     "height": 195
    },
    "executionInfo": {
     "elapsed": 834,
     "status": "ok",
     "timestamp": 1601874520575,
     "user": {
      "displayName": "Pianalytix Vrec",
      "photoUrl": "",
      "userId": "08286299111597749388"
     },
     "user_tz": -330
    },
    "id": "TxeBmt-3HwnM",
    "outputId": "6c1b0911-517a-444e-f927-17fcf6aa3c31"
   },
   "outputs": [
    {
     "data": {
      "text/html": [
       "<div>\n",
       "<style scoped>\n",
       "    .dataframe tbody tr th:only-of-type {\n",
       "        vertical-align: middle;\n",
       "    }\n",
       "\n",
       "    .dataframe tbody tr th {\n",
       "        vertical-align: top;\n",
       "    }\n",
       "\n",
       "    .dataframe thead th {\n",
       "        text-align: right;\n",
       "    }\n",
       "</style>\n",
       "<table border=\"1\" class=\"dataframe\">\n",
       "  <thead>\n",
       "    <tr style=\"text-align: right;\">\n",
       "      <th></th>\n",
       "      <th>area_type</th>\n",
       "      <th>availability</th>\n",
       "      <th>location</th>\n",
       "      <th>size</th>\n",
       "      <th>society</th>\n",
       "      <th>total_sqft</th>\n",
       "      <th>bath</th>\n",
       "      <th>balcony</th>\n",
       "      <th>price</th>\n",
       "    </tr>\n",
       "  </thead>\n",
       "  <tbody>\n",
       "    <tr>\n",
       "      <th>0</th>\n",
       "      <td>Super built-up  Area</td>\n",
       "      <td>19-Dec</td>\n",
       "      <td>Electronic City Phase II</td>\n",
       "      <td>2 BHK</td>\n",
       "      <td>Coomee</td>\n",
       "      <td>1056</td>\n",
       "      <td>2.0</td>\n",
       "      <td>1.0</td>\n",
       "      <td>39.07</td>\n",
       "    </tr>\n",
       "    <tr>\n",
       "      <th>1</th>\n",
       "      <td>Plot  Area</td>\n",
       "      <td>Ready To Move</td>\n",
       "      <td>Chikka Tirupathi</td>\n",
       "      <td>4 Bedroom</td>\n",
       "      <td>Theanmp</td>\n",
       "      <td>2600</td>\n",
       "      <td>5.0</td>\n",
       "      <td>3.0</td>\n",
       "      <td>120.00</td>\n",
       "    </tr>\n",
       "    <tr>\n",
       "      <th>2</th>\n",
       "      <td>Built-up  Area</td>\n",
       "      <td>Ready To Move</td>\n",
       "      <td>Uttarahalli</td>\n",
       "      <td>3 BHK</td>\n",
       "      <td>NaN</td>\n",
       "      <td>1440</td>\n",
       "      <td>2.0</td>\n",
       "      <td>3.0</td>\n",
       "      <td>62.00</td>\n",
       "    </tr>\n",
       "    <tr>\n",
       "      <th>3</th>\n",
       "      <td>Super built-up  Area</td>\n",
       "      <td>Ready To Move</td>\n",
       "      <td>Lingadheeranahalli</td>\n",
       "      <td>3 BHK</td>\n",
       "      <td>Soiewre</td>\n",
       "      <td>1521</td>\n",
       "      <td>3.0</td>\n",
       "      <td>1.0</td>\n",
       "      <td>95.00</td>\n",
       "    </tr>\n",
       "    <tr>\n",
       "      <th>4</th>\n",
       "      <td>Super built-up  Area</td>\n",
       "      <td>Ready To Move</td>\n",
       "      <td>Kothanur</td>\n",
       "      <td>2 BHK</td>\n",
       "      <td>NaN</td>\n",
       "      <td>1200</td>\n",
       "      <td>2.0</td>\n",
       "      <td>1.0</td>\n",
       "      <td>51.00</td>\n",
       "    </tr>\n",
       "  </tbody>\n",
       "</table>\n",
       "</div>"
      ],
      "text/plain": [
       "              area_type   availability                  location       size  \\\n",
       "0  Super built-up  Area         19-Dec  Electronic City Phase II      2 BHK   \n",
       "1            Plot  Area  Ready To Move          Chikka Tirupathi  4 Bedroom   \n",
       "2        Built-up  Area  Ready To Move               Uttarahalli      3 BHK   \n",
       "3  Super built-up  Area  Ready To Move        Lingadheeranahalli      3 BHK   \n",
       "4  Super built-up  Area  Ready To Move                  Kothanur      2 BHK   \n",
       "\n",
       "   society total_sqft  bath  balcony   price  \n",
       "0  Coomee        1056   2.0      1.0   39.07  \n",
       "1  Theanmp       2600   5.0      3.0  120.00  \n",
       "2      NaN       1440   2.0      3.0   62.00  \n",
       "3  Soiewre       1521   3.0      1.0   95.00  \n",
       "4      NaN       1200   2.0      1.0   51.00  "
      ]
     },
     "execution_count": 4,
     "metadata": {},
     "output_type": "execute_result"
    }
   ],
   "source": [
    "df = pd.read_csv(\"Bengaluru_House_Data.csv\")\n",
    "df.head()"
   ]
  },
  {
   "cell_type": "code",
   "execution_count": 5,
   "metadata": {
    "colab": {
     "base_uri": "https://localhost:8080/",
     "height": 34
    },
    "executionInfo": {
     "elapsed": 897,
     "status": "ok",
     "timestamp": 1601874522259,
     "user": {
      "displayName": "Pianalytix Vrec",
      "photoUrl": "",
      "userId": "08286299111597749388"
     },
     "user_tz": -330
    },
    "id": "I-lkUEzgHwnZ",
    "outputId": "40e73e41-fb40-4155-f9c4-a4ad2d8e716f"
   },
   "outputs": [
    {
     "data": {
      "text/plain": [
       "(13320, 9)"
      ]
     },
     "execution_count": 5,
     "metadata": {},
     "output_type": "execute_result"
    }
   ],
   "source": [
    "# Printing the shape of the dataframe\n",
    "df.shape"
   ]
  },
  {
   "cell_type": "markdown",
   "metadata": {
    "id": "JMFwtsv-Hwnj"
   },
   "source": [
    "### Exploratory Data Analysis (EDA)"
   ]
  },
  {
   "cell_type": "code",
   "execution_count": 6,
   "metadata": {
    "colab": {
     "base_uri": "https://localhost:8080/",
     "height": 67
    },
    "executionInfo": {
     "elapsed": 2811,
     "status": "ok",
     "timestamp": 1601874525489,
     "user": {
      "displayName": "Pianalytix Vrec",
      "photoUrl": "",
      "userId": "08286299111597749388"
     },
     "user_tz": -330
    },
    "id": "rANcD2SjHwnl",
    "outputId": "37d1e74f-0923-4a89-931c-165058c0e8d9"
   },
   "outputs": [
    {
     "data": {
      "text/plain": [
       "Index(['area_type', 'availability', 'location', 'size', 'society',\n",
       "       'total_sqft', 'bath', 'balcony', 'price'],\n",
       "      dtype='object')"
      ]
     },
     "execution_count": 6,
     "metadata": {},
     "output_type": "execute_result"
    }
   ],
   "source": [
    "# Total number of columns in the dataset\n",
    "df.columns"
   ]
  },
  {
   "cell_type": "code",
   "execution_count": 7,
   "metadata": {
    "colab": {
     "base_uri": "https://localhost:8080/",
     "height": 286
    },
    "executionInfo": {
     "elapsed": 2340,
     "status": "ok",
     "timestamp": 1601874525493,
     "user": {
      "displayName": "Pianalytix Vrec",
      "photoUrl": "",
      "userId": "08286299111597749388"
     },
     "user_tz": -330
    },
    "id": "jYgV1RrEHwnr",
    "outputId": "9c7fe1e7-273d-480d-bd09-a98cfd974214"
   },
   "outputs": [
    {
     "name": "stdout",
     "output_type": "stream",
     "text": [
      "<class 'pandas.core.frame.DataFrame'>\n",
      "RangeIndex: 13320 entries, 0 to 13319\n",
      "Data columns (total 9 columns):\n",
      " #   Column        Non-Null Count  Dtype  \n",
      "---  ------        --------------  -----  \n",
      " 0   area_type     13320 non-null  object \n",
      " 1   availability  13320 non-null  object \n",
      " 2   location      13319 non-null  object \n",
      " 3   size          13304 non-null  object \n",
      " 4   society       7818 non-null   object \n",
      " 5   total_sqft    13320 non-null  object \n",
      " 6   bath          13247 non-null  float64\n",
      " 7   balcony       12711 non-null  float64\n",
      " 8   price         13320 non-null  float64\n",
      "dtypes: float64(3), object(6)\n",
      "memory usage: 936.7+ KB\n"
     ]
    }
   ],
   "source": [
    "# Information about the dataset\n",
    "df.info()"
   ]
  },
  {
   "cell_type": "code",
   "execution_count": 8,
   "metadata": {
    "colab": {
     "base_uri": "https://localhost:8080/",
     "height": 284
    },
    "executionInfo": {
     "elapsed": 1871,
     "status": "ok",
     "timestamp": 1601874525494,
     "user": {
      "displayName": "Pianalytix Vrec",
      "photoUrl": "",
      "userId": "08286299111597749388"
     },
     "user_tz": -330
    },
    "id": "NIZjRkfFHwnx",
    "outputId": "f6372b81-f65f-418e-a072-c78650e51f1b"
   },
   "outputs": [
    {
     "data": {
      "text/html": [
       "<div>\n",
       "<style scoped>\n",
       "    .dataframe tbody tr th:only-of-type {\n",
       "        vertical-align: middle;\n",
       "    }\n",
       "\n",
       "    .dataframe tbody tr th {\n",
       "        vertical-align: top;\n",
       "    }\n",
       "\n",
       "    .dataframe thead th {\n",
       "        text-align: right;\n",
       "    }\n",
       "</style>\n",
       "<table border=\"1\" class=\"dataframe\">\n",
       "  <thead>\n",
       "    <tr style=\"text-align: right;\">\n",
       "      <th></th>\n",
       "      <th>bath</th>\n",
       "      <th>balcony</th>\n",
       "      <th>price</th>\n",
       "    </tr>\n",
       "  </thead>\n",
       "  <tbody>\n",
       "    <tr>\n",
       "      <th>count</th>\n",
       "      <td>13247.000000</td>\n",
       "      <td>12711.000000</td>\n",
       "      <td>13320.000000</td>\n",
       "    </tr>\n",
       "    <tr>\n",
       "      <th>mean</th>\n",
       "      <td>2.692610</td>\n",
       "      <td>1.584376</td>\n",
       "      <td>112.565627</td>\n",
       "    </tr>\n",
       "    <tr>\n",
       "      <th>std</th>\n",
       "      <td>1.341458</td>\n",
       "      <td>0.817263</td>\n",
       "      <td>148.971674</td>\n",
       "    </tr>\n",
       "    <tr>\n",
       "      <th>min</th>\n",
       "      <td>1.000000</td>\n",
       "      <td>0.000000</td>\n",
       "      <td>8.000000</td>\n",
       "    </tr>\n",
       "    <tr>\n",
       "      <th>25%</th>\n",
       "      <td>2.000000</td>\n",
       "      <td>1.000000</td>\n",
       "      <td>50.000000</td>\n",
       "    </tr>\n",
       "    <tr>\n",
       "      <th>50%</th>\n",
       "      <td>2.000000</td>\n",
       "      <td>2.000000</td>\n",
       "      <td>72.000000</td>\n",
       "    </tr>\n",
       "    <tr>\n",
       "      <th>75%</th>\n",
       "      <td>3.000000</td>\n",
       "      <td>2.000000</td>\n",
       "      <td>120.000000</td>\n",
       "    </tr>\n",
       "    <tr>\n",
       "      <th>max</th>\n",
       "      <td>40.000000</td>\n",
       "      <td>3.000000</td>\n",
       "      <td>3600.000000</td>\n",
       "    </tr>\n",
       "  </tbody>\n",
       "</table>\n",
       "</div>"
      ],
      "text/plain": [
       "               bath       balcony         price\n",
       "count  13247.000000  12711.000000  13320.000000\n",
       "mean       2.692610      1.584376    112.565627\n",
       "std        1.341458      0.817263    148.971674\n",
       "min        1.000000      0.000000      8.000000\n",
       "25%        2.000000      1.000000     50.000000\n",
       "50%        2.000000      2.000000     72.000000\n",
       "75%        3.000000      2.000000    120.000000\n",
       "max       40.000000      3.000000   3600.000000"
      ]
     },
     "execution_count": 8,
     "metadata": {},
     "output_type": "execute_result"
    }
   ],
   "source": [
    "# To know more about the dataset\n",
    "df.describe()"
   ]
  },
  {
   "cell_type": "code",
   "execution_count": 9,
   "metadata": {
    "colab": {
     "base_uri": "https://localhost:8080/",
     "height": 402
    },
    "executionInfo": {
     "elapsed": 1411,
     "status": "ok",
     "timestamp": 1601874525496,
     "user": {
      "displayName": "Pianalytix Vrec",
      "photoUrl": "",
      "userId": "08286299111597749388"
     },
     "user_tz": -330
    },
    "id": "n8WJNP2yHwn3",
    "outputId": "a2c95244-5d7c-4172-a5e7-186f00e3e2e2"
   },
   "outputs": [
    {
     "data": {
      "text/html": [
       "<div>\n",
       "<style scoped>\n",
       "    .dataframe tbody tr th:only-of-type {\n",
       "        vertical-align: middle;\n",
       "    }\n",
       "\n",
       "    .dataframe tbody tr th {\n",
       "        vertical-align: top;\n",
       "    }\n",
       "\n",
       "    .dataframe thead th {\n",
       "        text-align: right;\n",
       "    }\n",
       "</style>\n",
       "<table border=\"1\" class=\"dataframe\">\n",
       "  <thead>\n",
       "    <tr style=\"text-align: right;\">\n",
       "      <th></th>\n",
       "      <th>area_type</th>\n",
       "      <th>availability</th>\n",
       "      <th>location</th>\n",
       "      <th>size</th>\n",
       "      <th>society</th>\n",
       "      <th>total_sqft</th>\n",
       "      <th>bath</th>\n",
       "      <th>balcony</th>\n",
       "      <th>price</th>\n",
       "    </tr>\n",
       "  </thead>\n",
       "  <tbody>\n",
       "    <tr>\n",
       "      <th>0</th>\n",
       "      <td>False</td>\n",
       "      <td>False</td>\n",
       "      <td>False</td>\n",
       "      <td>False</td>\n",
       "      <td>False</td>\n",
       "      <td>False</td>\n",
       "      <td>False</td>\n",
       "      <td>False</td>\n",
       "      <td>False</td>\n",
       "    </tr>\n",
       "    <tr>\n",
       "      <th>1</th>\n",
       "      <td>False</td>\n",
       "      <td>False</td>\n",
       "      <td>False</td>\n",
       "      <td>False</td>\n",
       "      <td>False</td>\n",
       "      <td>False</td>\n",
       "      <td>False</td>\n",
       "      <td>False</td>\n",
       "      <td>False</td>\n",
       "    </tr>\n",
       "    <tr>\n",
       "      <th>2</th>\n",
       "      <td>False</td>\n",
       "      <td>False</td>\n",
       "      <td>False</td>\n",
       "      <td>False</td>\n",
       "      <td>True</td>\n",
       "      <td>False</td>\n",
       "      <td>False</td>\n",
       "      <td>False</td>\n",
       "      <td>False</td>\n",
       "    </tr>\n",
       "    <tr>\n",
       "      <th>3</th>\n",
       "      <td>False</td>\n",
       "      <td>False</td>\n",
       "      <td>False</td>\n",
       "      <td>False</td>\n",
       "      <td>False</td>\n",
       "      <td>False</td>\n",
       "      <td>False</td>\n",
       "      <td>False</td>\n",
       "      <td>False</td>\n",
       "    </tr>\n",
       "    <tr>\n",
       "      <th>4</th>\n",
       "      <td>False</td>\n",
       "      <td>False</td>\n",
       "      <td>False</td>\n",
       "      <td>False</td>\n",
       "      <td>True</td>\n",
       "      <td>False</td>\n",
       "      <td>False</td>\n",
       "      <td>False</td>\n",
       "      <td>False</td>\n",
       "    </tr>\n",
       "    <tr>\n",
       "      <th>...</th>\n",
       "      <td>...</td>\n",
       "      <td>...</td>\n",
       "      <td>...</td>\n",
       "      <td>...</td>\n",
       "      <td>...</td>\n",
       "      <td>...</td>\n",
       "      <td>...</td>\n",
       "      <td>...</td>\n",
       "      <td>...</td>\n",
       "    </tr>\n",
       "    <tr>\n",
       "      <th>13315</th>\n",
       "      <td>False</td>\n",
       "      <td>False</td>\n",
       "      <td>False</td>\n",
       "      <td>False</td>\n",
       "      <td>False</td>\n",
       "      <td>False</td>\n",
       "      <td>False</td>\n",
       "      <td>False</td>\n",
       "      <td>False</td>\n",
       "    </tr>\n",
       "    <tr>\n",
       "      <th>13316</th>\n",
       "      <td>False</td>\n",
       "      <td>False</td>\n",
       "      <td>False</td>\n",
       "      <td>False</td>\n",
       "      <td>True</td>\n",
       "      <td>False</td>\n",
       "      <td>False</td>\n",
       "      <td>True</td>\n",
       "      <td>False</td>\n",
       "    </tr>\n",
       "    <tr>\n",
       "      <th>13317</th>\n",
       "      <td>False</td>\n",
       "      <td>False</td>\n",
       "      <td>False</td>\n",
       "      <td>False</td>\n",
       "      <td>False</td>\n",
       "      <td>False</td>\n",
       "      <td>False</td>\n",
       "      <td>False</td>\n",
       "      <td>False</td>\n",
       "    </tr>\n",
       "    <tr>\n",
       "      <th>13318</th>\n",
       "      <td>False</td>\n",
       "      <td>False</td>\n",
       "      <td>False</td>\n",
       "      <td>False</td>\n",
       "      <td>False</td>\n",
       "      <td>False</td>\n",
       "      <td>False</td>\n",
       "      <td>False</td>\n",
       "      <td>False</td>\n",
       "    </tr>\n",
       "    <tr>\n",
       "      <th>13319</th>\n",
       "      <td>False</td>\n",
       "      <td>False</td>\n",
       "      <td>False</td>\n",
       "      <td>False</td>\n",
       "      <td>True</td>\n",
       "      <td>False</td>\n",
       "      <td>False</td>\n",
       "      <td>False</td>\n",
       "      <td>False</td>\n",
       "    </tr>\n",
       "  </tbody>\n",
       "</table>\n",
       "<p>13320 rows × 9 columns</p>\n",
       "</div>"
      ],
      "text/plain": [
       "       area_type  availability  location   size  society  total_sqft   bath  \\\n",
       "0          False         False     False  False    False       False  False   \n",
       "1          False         False     False  False    False       False  False   \n",
       "2          False         False     False  False     True       False  False   \n",
       "3          False         False     False  False    False       False  False   \n",
       "4          False         False     False  False     True       False  False   \n",
       "...          ...           ...       ...    ...      ...         ...    ...   \n",
       "13315      False         False     False  False    False       False  False   \n",
       "13316      False         False     False  False     True       False  False   \n",
       "13317      False         False     False  False    False       False  False   \n",
       "13318      False         False     False  False    False       False  False   \n",
       "13319      False         False     False  False     True       False  False   \n",
       "\n",
       "       balcony  price  \n",
       "0        False  False  \n",
       "1        False  False  \n",
       "2        False  False  \n",
       "3        False  False  \n",
       "4        False  False  \n",
       "...        ...    ...  \n",
       "13315    False  False  \n",
       "13316     True  False  \n",
       "13317    False  False  \n",
       "13318    False  False  \n",
       "13319    False  False  \n",
       "\n",
       "[13320 rows x 9 columns]"
      ]
     },
     "execution_count": 9,
     "metadata": {},
     "output_type": "execute_result"
    }
   ],
   "source": [
    "# Checking if there is some null values or not\n",
    "df.isnull()"
   ]
  },
  {
   "cell_type": "code",
   "execution_count": 10,
   "metadata": {
    "colab": {
     "base_uri": "https://localhost:8080/",
     "height": 185
    },
    "executionInfo": {
     "elapsed": 1045,
     "status": "ok",
     "timestamp": 1601874525501,
     "user": {
      "displayName": "Pianalytix Vrec",
      "photoUrl": "",
      "userId": "08286299111597749388"
     },
     "user_tz": -330
    },
    "id": "T19vIjO2Hwn8",
    "outputId": "7a99e03e-f415-420a-ebab-66acede76b45"
   },
   "outputs": [
    {
     "data": {
      "text/plain": [
       "area_type          0\n",
       "availability       0\n",
       "location           1\n",
       "size              16\n",
       "society         5502\n",
       "total_sqft         0\n",
       "bath              73\n",
       "balcony          609\n",
       "price              0\n",
       "dtype: int64"
      ]
     },
     "execution_count": 10,
     "metadata": {},
     "output_type": "execute_result"
    }
   ],
   "source": [
    "# Checking if there is some null values or not\n",
    "df.isnull().sum()"
   ]
  },
  {
   "cell_type": "code",
   "execution_count": 11,
   "metadata": {
    "colab": {
     "base_uri": "https://localhost:8080/",
     "height": 118
    },
    "executionInfo": {
     "elapsed": 674,
     "status": "ok",
     "timestamp": 1601874526016,
     "user": {
      "displayName": "Pianalytix Vrec",
      "photoUrl": "",
      "userId": "08286299111597749388"
     },
     "user_tz": -330
    },
    "id": "6VYWP91eHwoB",
    "outputId": "94b35373-e80c-40cd-977e-721a09240b5c"
   },
   "outputs": [
    {
     "data": {
      "text/plain": [
       "area_type\n",
       "Built-up  Area          2418\n",
       "Carpet  Area              87\n",
       "Plot  Area              2025\n",
       "Super built-up  Area    8790\n",
       "Name: area_type, dtype: int64"
      ]
     },
     "execution_count": 11,
     "metadata": {},
     "output_type": "execute_result"
    }
   ],
   "source": [
    "# Performing Group by operation on Area Type\n",
    "df.groupby(\"area_type\")[\"area_type\"].agg(\"count\")"
   ]
  },
  {
   "cell_type": "code",
   "execution_count": 12,
   "metadata": {
    "colab": {
     "base_uri": "https://localhost:8080/",
     "height": 286
    },
    "executionInfo": {
     "elapsed": 1036,
     "status": "ok",
     "timestamp": 1601874527838,
     "user": {
      "displayName": "Pianalytix Vrec",
      "photoUrl": "",
      "userId": "08286299111597749388"
     },
     "user_tz": -330
    },
    "id": "XUFvEWyQI9ST",
    "outputId": "45e071f6-a7cd-4926-cc13-5bc3812512b7"
   },
   "outputs": [
    {
     "name": "stdout",
     "output_type": "stream",
     "text": [
      "<class 'pandas.core.frame.DataFrame'>\n",
      "RangeIndex: 13320 entries, 0 to 13319\n",
      "Data columns (total 9 columns):\n",
      " #   Column        Non-Null Count  Dtype  \n",
      "---  ------        --------------  -----  \n",
      " 0   area_type     13320 non-null  object \n",
      " 1   availability  13320 non-null  object \n",
      " 2   location      13319 non-null  object \n",
      " 3   size          13304 non-null  object \n",
      " 4   society       7818 non-null   object \n",
      " 5   total_sqft    13320 non-null  object \n",
      " 6   bath          13247 non-null  float64\n",
      " 7   balcony       12711 non-null  float64\n",
      " 8   price         13320 non-null  float64\n",
      "dtypes: float64(3), object(6)\n",
      "memory usage: 936.7+ KB\n"
     ]
    }
   ],
   "source": [
    "df.info()"
   ]
  },
  {
   "cell_type": "code",
   "execution_count": 13,
   "metadata": {
    "colab": {
     "base_uri": "https://localhost:8080/",
     "height": 195
    },
    "executionInfo": {
     "elapsed": 840,
     "status": "ok",
     "timestamp": 1601874528478,
     "user": {
      "displayName": "Pianalytix Vrec",
      "photoUrl": "",
      "userId": "08286299111597749388"
     },
     "user_tz": -330
    },
    "id": "uqdyvW6SJFRE",
    "outputId": "f14348b7-c62d-4c44-def3-3ac7bf206f5e"
   },
   "outputs": [
    {
     "data": {
      "text/html": [
       "<div>\n",
       "<style scoped>\n",
       "    .dataframe tbody tr th:only-of-type {\n",
       "        vertical-align: middle;\n",
       "    }\n",
       "\n",
       "    .dataframe tbody tr th {\n",
       "        vertical-align: top;\n",
       "    }\n",
       "\n",
       "    .dataframe thead th {\n",
       "        text-align: right;\n",
       "    }\n",
       "</style>\n",
       "<table border=\"1\" class=\"dataframe\">\n",
       "  <thead>\n",
       "    <tr style=\"text-align: right;\">\n",
       "      <th></th>\n",
       "      <th>area_type</th>\n",
       "      <th>availability</th>\n",
       "      <th>location</th>\n",
       "      <th>size</th>\n",
       "      <th>society</th>\n",
       "      <th>total_sqft</th>\n",
       "      <th>bath</th>\n",
       "      <th>balcony</th>\n",
       "      <th>price</th>\n",
       "    </tr>\n",
       "  </thead>\n",
       "  <tbody>\n",
       "    <tr>\n",
       "      <th>0</th>\n",
       "      <td>Super built-up  Area</td>\n",
       "      <td>19-Dec</td>\n",
       "      <td>Electronic City Phase II</td>\n",
       "      <td>2 BHK</td>\n",
       "      <td>Coomee</td>\n",
       "      <td>1056</td>\n",
       "      <td>2.0</td>\n",
       "      <td>1.0</td>\n",
       "      <td>39.07</td>\n",
       "    </tr>\n",
       "    <tr>\n",
       "      <th>1</th>\n",
       "      <td>Plot  Area</td>\n",
       "      <td>Ready To Move</td>\n",
       "      <td>Chikka Tirupathi</td>\n",
       "      <td>4 Bedroom</td>\n",
       "      <td>Theanmp</td>\n",
       "      <td>2600</td>\n",
       "      <td>5.0</td>\n",
       "      <td>3.0</td>\n",
       "      <td>120.00</td>\n",
       "    </tr>\n",
       "    <tr>\n",
       "      <th>2</th>\n",
       "      <td>Built-up  Area</td>\n",
       "      <td>Ready To Move</td>\n",
       "      <td>Uttarahalli</td>\n",
       "      <td>3 BHK</td>\n",
       "      <td>NaN</td>\n",
       "      <td>1440</td>\n",
       "      <td>2.0</td>\n",
       "      <td>3.0</td>\n",
       "      <td>62.00</td>\n",
       "    </tr>\n",
       "    <tr>\n",
       "      <th>3</th>\n",
       "      <td>Super built-up  Area</td>\n",
       "      <td>Ready To Move</td>\n",
       "      <td>Lingadheeranahalli</td>\n",
       "      <td>3 BHK</td>\n",
       "      <td>Soiewre</td>\n",
       "      <td>1521</td>\n",
       "      <td>3.0</td>\n",
       "      <td>1.0</td>\n",
       "      <td>95.00</td>\n",
       "    </tr>\n",
       "    <tr>\n",
       "      <th>4</th>\n",
       "      <td>Super built-up  Area</td>\n",
       "      <td>Ready To Move</td>\n",
       "      <td>Kothanur</td>\n",
       "      <td>2 BHK</td>\n",
       "      <td>NaN</td>\n",
       "      <td>1200</td>\n",
       "      <td>2.0</td>\n",
       "      <td>1.0</td>\n",
       "      <td>51.00</td>\n",
       "    </tr>\n",
       "  </tbody>\n",
       "</table>\n",
       "</div>"
      ],
      "text/plain": [
       "              area_type   availability                  location       size  \\\n",
       "0  Super built-up  Area         19-Dec  Electronic City Phase II      2 BHK   \n",
       "1            Plot  Area  Ready To Move          Chikka Tirupathi  4 Bedroom   \n",
       "2        Built-up  Area  Ready To Move               Uttarahalli      3 BHK   \n",
       "3  Super built-up  Area  Ready To Move        Lingadheeranahalli      3 BHK   \n",
       "4  Super built-up  Area  Ready To Move                  Kothanur      2 BHK   \n",
       "\n",
       "   society total_sqft  bath  balcony   price  \n",
       "0  Coomee        1056   2.0      1.0   39.07  \n",
       "1  Theanmp       2600   5.0      3.0  120.00  \n",
       "2      NaN       1440   2.0      3.0   62.00  \n",
       "3  Soiewre       1521   3.0      1.0   95.00  \n",
       "4      NaN       1200   2.0      1.0   51.00  "
      ]
     },
     "execution_count": 13,
     "metadata": {},
     "output_type": "execute_result"
    }
   ],
   "source": [
    "df.head()"
   ]
  },
  {
   "cell_type": "code",
   "execution_count": 14,
   "metadata": {
    "executionInfo": {
     "elapsed": 1038,
     "status": "ok",
     "timestamp": 1601874529732,
     "user": {
      "displayName": "Pianalytix Vrec",
      "photoUrl": "",
      "userId": "08286299111597749388"
     },
     "user_tz": -330
    },
    "id": "rINMHopfHwoH"
   },
   "outputs": [],
   "source": [
    "# Dropping less important features\n",
    "df = df.drop([\"area_type\", \"society\",\"balcony\", \"availability\"], axis = \"columns\")"
   ]
  },
  {
   "cell_type": "code",
   "execution_count": 15,
   "metadata": {
    "colab": {
     "base_uri": "https://localhost:8080/",
     "height": 34
    },
    "executionInfo": {
     "elapsed": 847,
     "status": "ok",
     "timestamp": 1601874531734,
     "user": {
      "displayName": "Pianalytix Vrec",
      "photoUrl": "",
      "userId": "08286299111597749388"
     },
     "user_tz": -330
    },
    "id": "VVvWqYMdHwoK",
    "outputId": "1d89cf66-e92d-45f4-f1c8-4ac99ec915c8"
   },
   "outputs": [
    {
     "data": {
      "text/plain": [
       "(13320, 5)"
      ]
     },
     "execution_count": 15,
     "metadata": {},
     "output_type": "execute_result"
    }
   ],
   "source": [
    "df.shape"
   ]
  },
  {
   "cell_type": "code",
   "execution_count": 16,
   "metadata": {
    "executionInfo": {
     "elapsed": 630,
     "status": "ok",
     "timestamp": 1601874533131,
     "user": {
      "displayName": "Pianalytix Vrec",
      "photoUrl": "",
      "userId": "08286299111597749388"
     },
     "user_tz": -330
    },
    "id": "oInZNr-aHwoN"
   },
   "outputs": [],
   "source": [
    "# Dropping null values\n",
    "df = df.dropna()"
   ]
  },
  {
   "cell_type": "code",
   "execution_count": 17,
   "metadata": {
    "colab": {
     "base_uri": "https://localhost:8080/",
     "height": 118
    },
    "executionInfo": {
     "elapsed": 648,
     "status": "ok",
     "timestamp": 1601874534407,
     "user": {
      "displayName": "Pianalytix Vrec",
      "photoUrl": "",
      "userId": "08286299111597749388"
     },
     "user_tz": -330
    },
    "id": "0zuZxsBDHwoQ",
    "outputId": "8b404ce6-cf8f-4956-fc4b-06cb918b0157"
   },
   "outputs": [
    {
     "data": {
      "text/plain": [
       "location      0\n",
       "size          0\n",
       "total_sqft    0\n",
       "bath          0\n",
       "price         0\n",
       "dtype: int64"
      ]
     },
     "execution_count": 17,
     "metadata": {},
     "output_type": "execute_result"
    }
   ],
   "source": [
    "df.isnull().sum()"
   ]
  },
  {
   "cell_type": "code",
   "execution_count": 18,
   "metadata": {
    "colab": {
     "base_uri": "https://localhost:8080/",
     "height": 34
    },
    "executionInfo": {
     "elapsed": 826,
     "status": "ok",
     "timestamp": 1601874536230,
     "user": {
      "displayName": "Pianalytix Vrec",
      "photoUrl": "",
      "userId": "08286299111597749388"
     },
     "user_tz": -330
    },
    "id": "Wr8OaEzLHwoT",
    "outputId": "be6eaff3-fb51-499e-b033-25de5c8889eb"
   },
   "outputs": [
    {
     "data": {
      "text/plain": [
       "(13246, 5)"
      ]
     },
     "execution_count": 18,
     "metadata": {},
     "output_type": "execute_result"
    }
   ],
   "source": [
    "df.shape"
   ]
  },
  {
   "cell_type": "markdown",
   "metadata": {
    "id": "7odKN3uMHwoV"
   },
   "source": [
    "### Feature Engineering"
   ]
  },
  {
   "cell_type": "code",
   "execution_count": 19,
   "metadata": {
    "colab": {
     "base_uri": "https://localhost:8080/",
     "height": 118
    },
    "executionInfo": {
     "elapsed": 804,
     "status": "ok",
     "timestamp": 1601874538706,
     "user": {
      "displayName": "Pianalytix Vrec",
      "photoUrl": "",
      "userId": "08286299111597749388"
     },
     "user_tz": -330
    },
    "id": "EZ73M5SiJjSm",
    "outputId": "39f1f40a-8a76-4b31-eb95-63040889d864"
   },
   "outputs": [
    {
     "data": {
      "text/plain": [
       "array(['2 BHK', '4 Bedroom', '3 BHK', '4 BHK', '6 Bedroom', '3 Bedroom',\n",
       "       '1 BHK', '1 RK', '1 Bedroom', '8 Bedroom', '2 Bedroom',\n",
       "       '7 Bedroom', '5 BHK', '7 BHK', '6 BHK', '5 Bedroom', '11 BHK',\n",
       "       '9 BHK', '9 Bedroom', '27 BHK', '10 Bedroom', '11 Bedroom',\n",
       "       '10 BHK', '19 BHK', '16 BHK', '43 Bedroom', '14 BHK', '8 BHK',\n",
       "       '12 Bedroom', '13 BHK', '18 Bedroom'], dtype=object)"
      ]
     },
     "execution_count": 19,
     "metadata": {},
     "output_type": "execute_result"
    }
   ],
   "source": [
    "# Applying unique function on feature called Size\n",
    "df[\"size\"].unique()"
   ]
  },
  {
   "cell_type": "markdown",
   "metadata": {
    "id": "Mubs2cQvHwoY"
   },
   "source": [
    "From the above we can clearly see that Bedroom is represented with 2 different methods. One is BHK and the other one is Bedroom. So we are making a new column called BHK and we are discarding all the units (like BHK, Bedroom)."
   ]
  },
  {
   "cell_type": "code",
   "execution_count": 20,
   "metadata": {
    "executionInfo": {
     "elapsed": 870,
     "status": "ok",
     "timestamp": 1601874596853,
     "user": {
      "displayName": "Pianalytix Vrec",
      "photoUrl": "",
      "userId": "08286299111597749388"
     },
     "user_tz": -330
    },
    "id": "7XRcWVF-KQQp"
   },
   "outputs": [],
   "source": [
    "df['BHK'] = df[\"size\"].apply(lambda x: int(x.split(\" \")[0]))"
   ]
  },
  {
   "cell_type": "code",
   "execution_count": 21,
   "metadata": {
    "colab": {
     "base_uri": "https://localhost:8080/",
     "height": 195
    },
    "executionInfo": {
     "elapsed": 818,
     "status": "ok",
     "timestamp": 1601874601322,
     "user": {
      "displayName": "Pianalytix Vrec",
      "photoUrl": "",
      "userId": "08286299111597749388"
     },
     "user_tz": -330
    },
    "id": "VG6YwucsKSNi",
    "outputId": "3ef02376-95db-4ad1-b9fd-2d188ddd0131"
   },
   "outputs": [
    {
     "data": {
      "text/html": [
       "<div>\n",
       "<style scoped>\n",
       "    .dataframe tbody tr th:only-of-type {\n",
       "        vertical-align: middle;\n",
       "    }\n",
       "\n",
       "    .dataframe tbody tr th {\n",
       "        vertical-align: top;\n",
       "    }\n",
       "\n",
       "    .dataframe thead th {\n",
       "        text-align: right;\n",
       "    }\n",
       "</style>\n",
       "<table border=\"1\" class=\"dataframe\">\n",
       "  <thead>\n",
       "    <tr style=\"text-align: right;\">\n",
       "      <th></th>\n",
       "      <th>location</th>\n",
       "      <th>size</th>\n",
       "      <th>total_sqft</th>\n",
       "      <th>bath</th>\n",
       "      <th>price</th>\n",
       "      <th>BHK</th>\n",
       "    </tr>\n",
       "  </thead>\n",
       "  <tbody>\n",
       "    <tr>\n",
       "      <th>0</th>\n",
       "      <td>Electronic City Phase II</td>\n",
       "      <td>2 BHK</td>\n",
       "      <td>1056</td>\n",
       "      <td>2.0</td>\n",
       "      <td>39.07</td>\n",
       "      <td>2</td>\n",
       "    </tr>\n",
       "    <tr>\n",
       "      <th>1</th>\n",
       "      <td>Chikka Tirupathi</td>\n",
       "      <td>4 Bedroom</td>\n",
       "      <td>2600</td>\n",
       "      <td>5.0</td>\n",
       "      <td>120.00</td>\n",
       "      <td>4</td>\n",
       "    </tr>\n",
       "    <tr>\n",
       "      <th>2</th>\n",
       "      <td>Uttarahalli</td>\n",
       "      <td>3 BHK</td>\n",
       "      <td>1440</td>\n",
       "      <td>2.0</td>\n",
       "      <td>62.00</td>\n",
       "      <td>3</td>\n",
       "    </tr>\n",
       "    <tr>\n",
       "      <th>3</th>\n",
       "      <td>Lingadheeranahalli</td>\n",
       "      <td>3 BHK</td>\n",
       "      <td>1521</td>\n",
       "      <td>3.0</td>\n",
       "      <td>95.00</td>\n",
       "      <td>3</td>\n",
       "    </tr>\n",
       "    <tr>\n",
       "      <th>4</th>\n",
       "      <td>Kothanur</td>\n",
       "      <td>2 BHK</td>\n",
       "      <td>1200</td>\n",
       "      <td>2.0</td>\n",
       "      <td>51.00</td>\n",
       "      <td>2</td>\n",
       "    </tr>\n",
       "  </tbody>\n",
       "</table>\n",
       "</div>"
      ],
      "text/plain": [
       "                   location       size total_sqft  bath   price  BHK\n",
       "0  Electronic City Phase II      2 BHK       1056   2.0   39.07    2\n",
       "1          Chikka Tirupathi  4 Bedroom       2600   5.0  120.00    4\n",
       "2               Uttarahalli      3 BHK       1440   2.0   62.00    3\n",
       "3        Lingadheeranahalli      3 BHK       1521   3.0   95.00    3\n",
       "4                  Kothanur      2 BHK       1200   2.0   51.00    2"
      ]
     },
     "execution_count": 21,
     "metadata": {},
     "output_type": "execute_result"
    }
   ],
   "source": [
    "df.head()"
   ]
  },
  {
   "cell_type": "code",
   "execution_count": 22,
   "metadata": {
    "colab": {
     "base_uri": "https://localhost:8080/",
     "height": 50
    },
    "executionInfo": {
     "elapsed": 1009,
     "status": "ok",
     "timestamp": 1601874622262,
     "user": {
      "displayName": "Pianalytix Vrec",
      "photoUrl": "",
      "userId": "08286299111597749388"
     },
     "user_tz": -330
    },
    "id": "BHhmvpVnHwod",
    "outputId": "5c3eb5b4-7554-44d4-a1c2-47fcc8c99eba"
   },
   "outputs": [
    {
     "data": {
      "text/plain": [
       "array(['1056', '2600', '1440', ..., '1133 - 1384', '774', '4689'],\n",
       "      dtype=object)"
      ]
     },
     "execution_count": 22,
     "metadata": {},
     "output_type": "execute_result"
    }
   ],
   "source": [
    "df.total_sqft.unique()"
   ]
  },
  {
   "cell_type": "code",
   "execution_count": 23,
   "metadata": {
    "executionInfo": {
     "elapsed": 834,
     "status": "ok",
     "timestamp": 1601874753996,
     "user": {
      "displayName": "Pianalytix Vrec",
      "photoUrl": "",
      "userId": "08286299111597749388"
     },
     "user_tz": -330
    },
    "id": "jdV0ZWs3Hwof"
   },
   "outputs": [],
   "source": [
    "# Exploring total_sqft feature\n",
    "def is_float(x):\n",
    "    try:\n",
    "        float(x)\n",
    "    except:\n",
    "        return False\n",
    "    return True"
   ]
  },
  {
   "cell_type": "code",
   "execution_count": 24,
   "metadata": {
    "colab": {
     "base_uri": "https://localhost:8080/",
     "height": 343
    },
    "executionInfo": {
     "elapsed": 1178,
     "status": "ok",
     "timestamp": 1601874769539,
     "user": {
      "displayName": "Pianalytix Vrec",
      "photoUrl": "",
      "userId": "08286299111597749388"
     },
     "user_tz": -330
    },
    "id": "REtPJGCDHwoi",
    "outputId": "ea1a034f-b830-4e34-fb46-f6668b113694"
   },
   "outputs": [
    {
     "data": {
      "text/html": [
       "<div>\n",
       "<style scoped>\n",
       "    .dataframe tbody tr th:only-of-type {\n",
       "        vertical-align: middle;\n",
       "    }\n",
       "\n",
       "    .dataframe tbody tr th {\n",
       "        vertical-align: top;\n",
       "    }\n",
       "\n",
       "    .dataframe thead th {\n",
       "        text-align: right;\n",
       "    }\n",
       "</style>\n",
       "<table border=\"1\" class=\"dataframe\">\n",
       "  <thead>\n",
       "    <tr style=\"text-align: right;\">\n",
       "      <th></th>\n",
       "      <th>location</th>\n",
       "      <th>size</th>\n",
       "      <th>total_sqft</th>\n",
       "      <th>bath</th>\n",
       "      <th>price</th>\n",
       "      <th>BHK</th>\n",
       "    </tr>\n",
       "  </thead>\n",
       "  <tbody>\n",
       "    <tr>\n",
       "      <th>30</th>\n",
       "      <td>Yelahanka</td>\n",
       "      <td>4 BHK</td>\n",
       "      <td>2100 - 2850</td>\n",
       "      <td>4.0</td>\n",
       "      <td>186.000</td>\n",
       "      <td>4</td>\n",
       "    </tr>\n",
       "    <tr>\n",
       "      <th>122</th>\n",
       "      <td>Hebbal</td>\n",
       "      <td>4 BHK</td>\n",
       "      <td>3067 - 8156</td>\n",
       "      <td>4.0</td>\n",
       "      <td>477.000</td>\n",
       "      <td>4</td>\n",
       "    </tr>\n",
       "    <tr>\n",
       "      <th>137</th>\n",
       "      <td>8th Phase JP Nagar</td>\n",
       "      <td>2 BHK</td>\n",
       "      <td>1042 - 1105</td>\n",
       "      <td>2.0</td>\n",
       "      <td>54.005</td>\n",
       "      <td>2</td>\n",
       "    </tr>\n",
       "    <tr>\n",
       "      <th>165</th>\n",
       "      <td>Sarjapur</td>\n",
       "      <td>2 BHK</td>\n",
       "      <td>1145 - 1340</td>\n",
       "      <td>2.0</td>\n",
       "      <td>43.490</td>\n",
       "      <td>2</td>\n",
       "    </tr>\n",
       "    <tr>\n",
       "      <th>188</th>\n",
       "      <td>KR Puram</td>\n",
       "      <td>2 BHK</td>\n",
       "      <td>1015 - 1540</td>\n",
       "      <td>2.0</td>\n",
       "      <td>56.800</td>\n",
       "      <td>2</td>\n",
       "    </tr>\n",
       "    <tr>\n",
       "      <th>410</th>\n",
       "      <td>Kengeri</td>\n",
       "      <td>1 BHK</td>\n",
       "      <td>34.46Sq. Meter</td>\n",
       "      <td>1.0</td>\n",
       "      <td>18.500</td>\n",
       "      <td>1</td>\n",
       "    </tr>\n",
       "    <tr>\n",
       "      <th>549</th>\n",
       "      <td>Hennur Road</td>\n",
       "      <td>2 BHK</td>\n",
       "      <td>1195 - 1440</td>\n",
       "      <td>2.0</td>\n",
       "      <td>63.770</td>\n",
       "      <td>2</td>\n",
       "    </tr>\n",
       "    <tr>\n",
       "      <th>648</th>\n",
       "      <td>Arekere</td>\n",
       "      <td>9 Bedroom</td>\n",
       "      <td>4125Perch</td>\n",
       "      <td>9.0</td>\n",
       "      <td>265.000</td>\n",
       "      <td>9</td>\n",
       "    </tr>\n",
       "    <tr>\n",
       "      <th>661</th>\n",
       "      <td>Yelahanka</td>\n",
       "      <td>2 BHK</td>\n",
       "      <td>1120 - 1145</td>\n",
       "      <td>2.0</td>\n",
       "      <td>48.130</td>\n",
       "      <td>2</td>\n",
       "    </tr>\n",
       "    <tr>\n",
       "      <th>672</th>\n",
       "      <td>Bettahalsoor</td>\n",
       "      <td>4 Bedroom</td>\n",
       "      <td>3090 - 5002</td>\n",
       "      <td>4.0</td>\n",
       "      <td>445.000</td>\n",
       "      <td>4</td>\n",
       "    </tr>\n",
       "  </tbody>\n",
       "</table>\n",
       "</div>"
      ],
      "text/plain": [
       "               location       size      total_sqft  bath    price  BHK\n",
       "30            Yelahanka      4 BHK     2100 - 2850   4.0  186.000    4\n",
       "122              Hebbal      4 BHK     3067 - 8156   4.0  477.000    4\n",
       "137  8th Phase JP Nagar      2 BHK     1042 - 1105   2.0   54.005    2\n",
       "165            Sarjapur      2 BHK     1145 - 1340   2.0   43.490    2\n",
       "188            KR Puram      2 BHK     1015 - 1540   2.0   56.800    2\n",
       "410             Kengeri      1 BHK  34.46Sq. Meter   1.0   18.500    1\n",
       "549         Hennur Road      2 BHK     1195 - 1440   2.0   63.770    2\n",
       "648             Arekere  9 Bedroom       4125Perch   9.0  265.000    9\n",
       "661           Yelahanka      2 BHK     1120 - 1145   2.0   48.130    2\n",
       "672        Bettahalsoor  4 Bedroom     3090 - 5002   4.0  445.000    4"
      ]
     },
     "execution_count": 24,
     "metadata": {},
     "output_type": "execute_result"
    }
   ],
   "source": [
    "df[~df[\"total_sqft\"].apply(is_float)].head(10)"
   ]
  },
  {
   "cell_type": "markdown",
   "metadata": {
    "id": "XjrhdGfJHwok"
   },
   "source": [
    "From the above we can see that total_sqft can be a range (say, 3090-5002). For such cases we can just take average of the minimum and maximum value in the range. There are other cases such as 34.46Sq. Meter which one can convert to square ft using unit conversion. So, we are going to just drop such corner cases to keep things simple."
   ]
  },
  {
   "cell_type": "code",
   "execution_count": 25,
   "metadata": {
    "executionInfo": {
     "elapsed": 1777,
     "status": "ok",
     "timestamp": 1601874891560,
     "user": {
      "displayName": "Pianalytix Vrec",
      "photoUrl": "",
      "userId": "08286299111597749388"
     },
     "user_tz": -330
    },
    "id": "bKJWhHPEHwok"
   },
   "outputs": [],
   "source": [
    "def convert_sqft_to_number(x):\n",
    "    tokens = x.split(\"-\")\n",
    "    if len(tokens) == 2:\n",
    "        return (float(tokens[0])+float(tokens[1]))/2\n",
    "    try:\n",
    "        return float(x)\n",
    "    except:\n",
    "        return None"
   ]
  },
  {
   "cell_type": "code",
   "execution_count": 26,
   "metadata": {
    "colab": {
     "base_uri": "https://localhost:8080/",
     "height": 343
    },
    "executionInfo": {
     "elapsed": 2432,
     "status": "ok",
     "timestamp": 1601874915890,
     "user": {
      "displayName": "Pianalytix Vrec",
      "photoUrl": "",
      "userId": "08286299111597749388"
     },
     "user_tz": -330
    },
    "id": "1JQ_Up6sHwom",
    "outputId": "380b2aba-7c27-4573-a868-a7544f79b472"
   },
   "outputs": [
    {
     "data": {
      "text/html": [
       "<div>\n",
       "<style scoped>\n",
       "    .dataframe tbody tr th:only-of-type {\n",
       "        vertical-align: middle;\n",
       "    }\n",
       "\n",
       "    .dataframe tbody tr th {\n",
       "        vertical-align: top;\n",
       "    }\n",
       "\n",
       "    .dataframe thead th {\n",
       "        text-align: right;\n",
       "    }\n",
       "</style>\n",
       "<table border=\"1\" class=\"dataframe\">\n",
       "  <thead>\n",
       "    <tr style=\"text-align: right;\">\n",
       "      <th></th>\n",
       "      <th>location</th>\n",
       "      <th>size</th>\n",
       "      <th>total_sqft</th>\n",
       "      <th>bath</th>\n",
       "      <th>price</th>\n",
       "      <th>BHK</th>\n",
       "    </tr>\n",
       "  </thead>\n",
       "  <tbody>\n",
       "    <tr>\n",
       "      <th>0</th>\n",
       "      <td>Electronic City Phase II</td>\n",
       "      <td>2 BHK</td>\n",
       "      <td>1056.0</td>\n",
       "      <td>2.0</td>\n",
       "      <td>39.07</td>\n",
       "      <td>2</td>\n",
       "    </tr>\n",
       "    <tr>\n",
       "      <th>1</th>\n",
       "      <td>Chikka Tirupathi</td>\n",
       "      <td>4 Bedroom</td>\n",
       "      <td>2600.0</td>\n",
       "      <td>5.0</td>\n",
       "      <td>120.00</td>\n",
       "      <td>4</td>\n",
       "    </tr>\n",
       "    <tr>\n",
       "      <th>2</th>\n",
       "      <td>Uttarahalli</td>\n",
       "      <td>3 BHK</td>\n",
       "      <td>1440.0</td>\n",
       "      <td>2.0</td>\n",
       "      <td>62.00</td>\n",
       "      <td>3</td>\n",
       "    </tr>\n",
       "    <tr>\n",
       "      <th>3</th>\n",
       "      <td>Lingadheeranahalli</td>\n",
       "      <td>3 BHK</td>\n",
       "      <td>1521.0</td>\n",
       "      <td>3.0</td>\n",
       "      <td>95.00</td>\n",
       "      <td>3</td>\n",
       "    </tr>\n",
       "    <tr>\n",
       "      <th>4</th>\n",
       "      <td>Kothanur</td>\n",
       "      <td>2 BHK</td>\n",
       "      <td>1200.0</td>\n",
       "      <td>2.0</td>\n",
       "      <td>51.00</td>\n",
       "      <td>2</td>\n",
       "    </tr>\n",
       "    <tr>\n",
       "      <th>5</th>\n",
       "      <td>Whitefield</td>\n",
       "      <td>2 BHK</td>\n",
       "      <td>1170.0</td>\n",
       "      <td>2.0</td>\n",
       "      <td>38.00</td>\n",
       "      <td>2</td>\n",
       "    </tr>\n",
       "    <tr>\n",
       "      <th>6</th>\n",
       "      <td>Old Airport Road</td>\n",
       "      <td>4 BHK</td>\n",
       "      <td>2732.0</td>\n",
       "      <td>4.0</td>\n",
       "      <td>204.00</td>\n",
       "      <td>4</td>\n",
       "    </tr>\n",
       "    <tr>\n",
       "      <th>7</th>\n",
       "      <td>Rajaji Nagar</td>\n",
       "      <td>4 BHK</td>\n",
       "      <td>3300.0</td>\n",
       "      <td>4.0</td>\n",
       "      <td>600.00</td>\n",
       "      <td>4</td>\n",
       "    </tr>\n",
       "    <tr>\n",
       "      <th>8</th>\n",
       "      <td>Marathahalli</td>\n",
       "      <td>3 BHK</td>\n",
       "      <td>1310.0</td>\n",
       "      <td>3.0</td>\n",
       "      <td>63.25</td>\n",
       "      <td>3</td>\n",
       "    </tr>\n",
       "    <tr>\n",
       "      <th>9</th>\n",
       "      <td>Gandhi Bazar</td>\n",
       "      <td>6 Bedroom</td>\n",
       "      <td>1020.0</td>\n",
       "      <td>6.0</td>\n",
       "      <td>370.00</td>\n",
       "      <td>6</td>\n",
       "    </tr>\n",
       "  </tbody>\n",
       "</table>\n",
       "</div>"
      ],
      "text/plain": [
       "                   location       size  total_sqft  bath   price  BHK\n",
       "0  Electronic City Phase II      2 BHK      1056.0   2.0   39.07    2\n",
       "1          Chikka Tirupathi  4 Bedroom      2600.0   5.0  120.00    4\n",
       "2               Uttarahalli      3 BHK      1440.0   2.0   62.00    3\n",
       "3        Lingadheeranahalli      3 BHK      1521.0   3.0   95.00    3\n",
       "4                  Kothanur      2 BHK      1200.0   2.0   51.00    2\n",
       "5                Whitefield      2 BHK      1170.0   2.0   38.00    2\n",
       "6          Old Airport Road      4 BHK      2732.0   4.0  204.00    4\n",
       "7              Rajaji Nagar      4 BHK      3300.0   4.0  600.00    4\n",
       "8              Marathahalli      3 BHK      1310.0   3.0   63.25    3\n",
       "9              Gandhi Bazar  6 Bedroom      1020.0   6.0  370.00    6"
      ]
     },
     "execution_count": 26,
     "metadata": {},
     "output_type": "execute_result"
    }
   ],
   "source": [
    "df = df.copy()\n",
    "df[\"total_sqft\"] = df[\"total_sqft\"].apply(convert_sqft_to_number)\n",
    "df.head(10)"
   ]
  },
  {
   "cell_type": "markdown",
   "metadata": {
    "id": "VTJce9NDHwop"
   },
   "source": [
    "Here, we are adding a new feature called Price per Square Feet"
   ]
  },
  {
   "cell_type": "code",
   "execution_count": 27,
   "metadata": {
    "colab": {
     "base_uri": "https://localhost:8080/",
     "height": 195
    },
    "executionInfo": {
     "elapsed": 1785,
     "status": "ok",
     "timestamp": 1601875059416,
     "user": {
      "displayName": "Pianalytix Vrec",
      "photoUrl": "",
      "userId": "08286299111597749388"
     },
     "user_tz": -330
    },
    "id": "UwyTodgSHwop",
    "outputId": "ca5796b5-57d0-4af5-a2ea-96f285a77e2e"
   },
   "outputs": [
    {
     "data": {
      "text/html": [
       "<div>\n",
       "<style scoped>\n",
       "    .dataframe tbody tr th:only-of-type {\n",
       "        vertical-align: middle;\n",
       "    }\n",
       "\n",
       "    .dataframe tbody tr th {\n",
       "        vertical-align: top;\n",
       "    }\n",
       "\n",
       "    .dataframe thead th {\n",
       "        text-align: right;\n",
       "    }\n",
       "</style>\n",
       "<table border=\"1\" class=\"dataframe\">\n",
       "  <thead>\n",
       "    <tr style=\"text-align: right;\">\n",
       "      <th></th>\n",
       "      <th>location</th>\n",
       "      <th>size</th>\n",
       "      <th>total_sqft</th>\n",
       "      <th>bath</th>\n",
       "      <th>price</th>\n",
       "      <th>BHK</th>\n",
       "      <th>price_per_sqft</th>\n",
       "    </tr>\n",
       "  </thead>\n",
       "  <tbody>\n",
       "    <tr>\n",
       "      <th>0</th>\n",
       "      <td>Electronic City Phase II</td>\n",
       "      <td>2 BHK</td>\n",
       "      <td>1056.0</td>\n",
       "      <td>2.0</td>\n",
       "      <td>39.07</td>\n",
       "      <td>2</td>\n",
       "      <td>3699.810606</td>\n",
       "    </tr>\n",
       "    <tr>\n",
       "      <th>1</th>\n",
       "      <td>Chikka Tirupathi</td>\n",
       "      <td>4 Bedroom</td>\n",
       "      <td>2600.0</td>\n",
       "      <td>5.0</td>\n",
       "      <td>120.00</td>\n",
       "      <td>4</td>\n",
       "      <td>4615.384615</td>\n",
       "    </tr>\n",
       "    <tr>\n",
       "      <th>2</th>\n",
       "      <td>Uttarahalli</td>\n",
       "      <td>3 BHK</td>\n",
       "      <td>1440.0</td>\n",
       "      <td>2.0</td>\n",
       "      <td>62.00</td>\n",
       "      <td>3</td>\n",
       "      <td>4305.555556</td>\n",
       "    </tr>\n",
       "    <tr>\n",
       "      <th>3</th>\n",
       "      <td>Lingadheeranahalli</td>\n",
       "      <td>3 BHK</td>\n",
       "      <td>1521.0</td>\n",
       "      <td>3.0</td>\n",
       "      <td>95.00</td>\n",
       "      <td>3</td>\n",
       "      <td>6245.890861</td>\n",
       "    </tr>\n",
       "    <tr>\n",
       "      <th>4</th>\n",
       "      <td>Kothanur</td>\n",
       "      <td>2 BHK</td>\n",
       "      <td>1200.0</td>\n",
       "      <td>2.0</td>\n",
       "      <td>51.00</td>\n",
       "      <td>2</td>\n",
       "      <td>4250.000000</td>\n",
       "    </tr>\n",
       "  </tbody>\n",
       "</table>\n",
       "</div>"
      ],
      "text/plain": [
       "                   location       size  total_sqft  bath   price  BHK  \\\n",
       "0  Electronic City Phase II      2 BHK      1056.0   2.0   39.07    2   \n",
       "1          Chikka Tirupathi  4 Bedroom      2600.0   5.0  120.00    4   \n",
       "2               Uttarahalli      3 BHK      1440.0   2.0   62.00    3   \n",
       "3        Lingadheeranahalli      3 BHK      1521.0   3.0   95.00    3   \n",
       "4                  Kothanur      2 BHK      1200.0   2.0   51.00    2   \n",
       "\n",
       "   price_per_sqft  \n",
       "0     3699.810606  \n",
       "1     4615.384615  \n",
       "2     4305.555556  \n",
       "3     6245.890861  \n",
       "4     4250.000000  "
      ]
     },
     "execution_count": 27,
     "metadata": {},
     "output_type": "execute_result"
    }
   ],
   "source": [
    "df = df.copy()\n",
    "df[\"price_per_sqft\"] = df[\"price\"]*100000/df[\"total_sqft\"]\n",
    "df.head()"
   ]
  },
  {
   "cell_type": "markdown",
   "metadata": {
    "id": "aAjszEduHwos"
   },
   "source": [
    "Here, we are going to use Dimentionality Reduction for the data which are categorical variable. We need to apply Dimensionality Reduction here to reduce number of locations."
   ]
  },
  {
   "cell_type": "code",
   "execution_count": 28,
   "metadata": {
    "colab": {
     "base_uri": "https://localhost:8080/",
     "height": 218
    },
    "executionInfo": {
     "elapsed": 846,
     "status": "ok",
     "timestamp": 1601875285498,
     "user": {
      "displayName": "Pianalytix Vrec",
      "photoUrl": "",
      "userId": "08286299111597749388"
     },
     "user_tz": -330
    },
    "id": "2Rhqh3W8Hwos",
    "outputId": "c49fbfca-96e5-4d66-ce03-0d75fa504650"
   },
   "outputs": [
    {
     "data": {
      "text/plain": [
       "Whitefield                        535\n",
       "Sarjapur  Road                    392\n",
       "Electronic City                   304\n",
       "Kanakpura Road                    266\n",
       "Thanisandra                       236\n",
       "                                 ... \n",
       "Vasantapura main road               1\n",
       "Bapuji Layout                       1\n",
       "1st Stage Radha Krishna Layout      1\n",
       "BEML Layout 5th stage               1\n",
       "Abshot Layout                       1\n",
       "Name: location, Length: 1293, dtype: int64"
      ]
     },
     "execution_count": 28,
     "metadata": {},
     "output_type": "execute_result"
    }
   ],
   "source": [
    "df.location = df.location.apply(lambda x: x.strip())\n",
    "location_stats = df['location'].value_counts(ascending=False)\n",
    "location_stats"
   ]
  },
  {
   "cell_type": "code",
   "execution_count": null,
   "metadata": {
    "colab": {
     "base_uri": "https://localhost:8080/",
     "height": 34
    },
    "executionInfo": {
     "elapsed": 896,
     "status": "ok",
     "timestamp": 1601875333521,
     "user": {
      "displayName": "Pianalytix Vrec",
      "photoUrl": "",
      "userId": "08286299111597749388"
     },
     "user_tz": -330
    },
    "id": "9KETUy87Hwou",
    "outputId": "deb5579b-0866-44ad-ab7b-dc7374c82cfb"
   },
   "outputs": [],
   "source": [
    "len(location_stats[location_stats<=10])"
   ]
  },
  {
   "cell_type": "code",
   "execution_count": null,
   "metadata": {
    "colab": {
     "base_uri": "https://localhost:8080/",
     "height": 218
    },
    "executionInfo": {
     "elapsed": 880,
     "status": "ok",
     "timestamp": 1601875396481,
     "user": {
      "displayName": "Pianalytix Vrec",
      "photoUrl": "",
      "userId": "08286299111597749388"
     },
     "user_tz": -330
    },
    "id": "X7nCjT6uHwow",
    "outputId": "d344971b-e68a-4bda-dc98-e3b454451b20"
   },
   "outputs": [],
   "source": [
    "location_stats_less_than_10 = location_stats[location_stats<=10]\n",
    "location_stats_less_than_10"
   ]
  },
  {
   "cell_type": "code",
   "execution_count": null,
   "metadata": {
    "colab": {
     "base_uri": "https://localhost:8080/",
     "height": 34
    },
    "executionInfo": {
     "elapsed": 785,
     "status": "ok",
     "timestamp": 1601875451664,
     "user": {
      "displayName": "Pianalytix Vrec",
      "photoUrl": "",
      "userId": "08286299111597749388"
     },
     "user_tz": -330
    },
    "id": "IpXQVOAjHwoy",
    "outputId": "52b18d6b-31b4-4ac2-c344-134c6ba6ff13"
   },
   "outputs": [],
   "source": [
    "df.location = df.location.apply(lambda x: 'other' if x in location_stats_less_than_10 else x)\n",
    "len(df.location.unique())"
   ]
  },
  {
   "cell_type": "code",
   "execution_count": null,
   "metadata": {
    "colab": {
     "base_uri": "https://localhost:8080/",
     "height": 195
    },
    "executionInfo": {
     "elapsed": 960,
     "status": "ok",
     "timestamp": 1601875473528,
     "user": {
      "displayName": "Pianalytix Vrec",
      "photoUrl": "",
      "userId": "08286299111597749388"
     },
     "user_tz": -330
    },
    "id": "o6zuEIZ2Hwo1",
    "outputId": "d4cdf9ed-2dbf-4399-d328-36d7c3b418e8"
   },
   "outputs": [],
   "source": [
    "df.head()"
   ]
  },
  {
   "cell_type": "markdown",
   "metadata": {
    "id": "gDGKNRy-Hwo3"
   },
   "source": [
    "Here we will discard some more data. Because, normally if a square ft per bedroom is 300 (i.e. 2 bhk apartment is minimum 600 sqft. If you have for example 400 sqft apartment with 2 bhk than that seems suspicious and can be removed as an outlier. We will remove such outliers by keeping our minimum thresold per bhk to be 300 sqft"
   ]
  },
  {
   "cell_type": "code",
   "execution_count": null,
   "metadata": {
    "colab": {
     "base_uri": "https://localhost:8080/",
     "height": 195
    },
    "executionInfo": {
     "elapsed": 878,
     "status": "ok",
     "timestamp": 1601875693985,
     "user": {
      "displayName": "Pianalytix Vrec",
      "photoUrl": "",
      "userId": "08286299111597749388"
     },
     "user_tz": -330
    },
    "id": "HjGpE2sdHwo4",
    "outputId": "4b0ebcdb-29d8-40a1-d94c-776ee919afa9"
   },
   "outputs": [],
   "source": [
    "df[df.total_sqft/df.BHK<300].head()"
   ]
  },
  {
   "cell_type": "code",
   "execution_count": null,
   "metadata": {
    "colab": {
     "base_uri": "https://localhost:8080/",
     "height": 34
    },
    "executionInfo": {
     "elapsed": 1149,
     "status": "ok",
     "timestamp": 1601875837188,
     "user": {
      "displayName": "Pianalytix Vrec",
      "photoUrl": "",
      "userId": "08286299111597749388"
     },
     "user_tz": -330
    },
    "id": "1JdkWV-zHwo6",
    "outputId": "edcb399c-b2e0-401a-8ff1-7f2c8ad88e95"
   },
   "outputs": [],
   "source": [
    "df = df[~(df.total_sqft/df.BHK<300)]\n",
    "df.shape"
   ]
  },
  {
   "cell_type": "code",
   "execution_count": null,
   "metadata": {
    "colab": {
     "base_uri": "https://localhost:8080/",
     "height": 284
    },
    "executionInfo": {
     "elapsed": 919,
     "status": "ok",
     "timestamp": 1601875912651,
     "user": {
      "displayName": "Pianalytix Vrec",
      "photoUrl": "",
      "userId": "08286299111597749388"
     },
     "user_tz": -330
    },
    "id": "WD5Ww_ZyPowb",
    "outputId": "30a21340-352d-47f4-896d-61fbf8a389a7"
   },
   "outputs": [],
   "source": [
    "df.describe()"
   ]
  },
  {
   "cell_type": "markdown",
   "metadata": {
    "id": "ovAtSWTtHwo8"
   },
   "source": [
    "Here we find that min price per sqft is 267 rs/sqft whereas max is 12000000, this shows a wide variation in property prices. We should remove outliers per location using mean and one Standard Deviation"
   ]
  },
  {
   "cell_type": "code",
   "execution_count": null,
   "metadata": {
    "colab": {
     "base_uri": "https://localhost:8080/",
     "height": 34
    },
    "executionInfo": {
     "elapsed": 1310,
     "status": "ok",
     "timestamp": 1601876136365,
     "user": {
      "displayName": "Pianalytix Vrec",
      "photoUrl": "",
      "userId": "08286299111597749388"
     },
     "user_tz": -330
    },
    "id": "Am8gf13SHwo8",
    "outputId": "f9f78e0f-a809-4d31-f3af-4454ba0a78ee"
   },
   "outputs": [],
   "source": [
    "def remove_pps_outliers(df):\n",
    "    df_out = pd.DataFrame()\n",
    "    for key, subdf in df.groupby('location'):\n",
    "        m = np.mean(subdf.price_per_sqft)\n",
    "        st = np.std(subdf.price_per_sqft)\n",
    "        reduced_df = subdf[(subdf.price_per_sqft>(m-st)) & (subdf.price_per_sqft<=(m+st))]\n",
    "        df_out = pd.concat([df_out,reduced_df],ignore_index=True)\n",
    "    return df_out\n",
    "df = remove_pps_outliers(df)\n",
    "df.shape"
   ]
  },
  {
   "cell_type": "code",
   "execution_count": null,
   "metadata": {
    "colab": {
     "base_uri": "https://localhost:8080/",
     "height": 195
    },
    "executionInfo": {
     "elapsed": 939,
     "status": "ok",
     "timestamp": 1601876180680,
     "user": {
      "displayName": "Pianalytix Vrec",
      "photoUrl": "",
      "userId": "08286299111597749388"
     },
     "user_tz": -330
    },
    "id": "Rm0TcjtBQqNh",
    "outputId": "1058717a-6cae-45fc-b229-796d31acf535"
   },
   "outputs": [],
   "source": [
    "df.head()"
   ]
  },
  {
   "cell_type": "markdown",
   "metadata": {
    "id": "5Pn5EWdNHwo-"
   },
   "source": [
    "### Data Vizualization"
   ]
  },
  {
   "cell_type": "code",
   "execution_count": null,
   "metadata": {
    "colab": {
     "base_uri": "https://localhost:8080/",
     "height": 639
    },
    "executionInfo": {
     "elapsed": 917,
     "status": "ok",
     "timestamp": 1601876377090,
     "user": {
      "displayName": "Pianalytix Vrec",
      "photoUrl": "",
      "userId": "08286299111597749388"
     },
     "user_tz": -330
    },
    "id": "GSh_cSxGRXsg",
    "outputId": "82c09236-fd05-493a-b948-2bb1676e31e9"
   },
   "outputs": [],
   "source": [
    "df.head(20)"
   ]
  },
  {
   "cell_type": "code",
   "execution_count": null,
   "metadata": {
    "colab": {
     "base_uri": "https://localhost:8080/",
     "height": 404
    },
    "executionInfo": {
     "elapsed": 860,
     "status": "ok",
     "timestamp": 1601876391434,
     "user": {
      "displayName": "Pianalytix Vrec",
      "photoUrl": "",
      "userId": "08286299111597749388"
     },
     "user_tz": -330
    },
    "id": "GsJQHrxXHwo_",
    "outputId": "9a13d04a-a82d-4a85-abe0-8ed5ddafa538"
   },
   "outputs": [],
   "source": [
    "# Ploting the Scatter Chart for 2 BHK and 3 BHK properties\n",
    "def plot_scatter_chart(df,location):\n",
    "    bhk2 = df[(df.location==location) & (df.BHK==2)]\n",
    "    bhk3 = df[(df.location==location) & (df.BHK==3)]\n",
    "    matplotlib.rcParams['figure.figsize'] = (8,6)\n",
    "    plt.scatter(bhk2.total_sqft,bhk2.price,color='blue',label='2 BHK', s=50)\n",
    "    plt.scatter(bhk3.total_sqft,bhk3.price,marker='+', color='green',label='3 BHK', s=50)\n",
    "    plt.xlabel(\"Total Square Feet Area\")\n",
    "    plt.ylabel(\"Price (Lakh Indian Rupees)\")\n",
    "    plt.title(location)\n",
    "    plt.legend()\n",
    "    \n",
    "plot_scatter_chart(df,\"1st Phase JP Nagar\")"
   ]
  },
  {
   "cell_type": "code",
   "execution_count": null,
   "metadata": {
    "colab": {
     "base_uri": "https://localhost:8080/",
     "height": 408
    },
    "executionInfo": {
     "elapsed": 1074,
     "status": "ok",
     "timestamp": 1601876496765,
     "user": {
      "displayName": "Pianalytix Vrec",
      "photoUrl": "",
      "userId": "08286299111597749388"
     },
     "user_tz": -330
    },
    "id": "FTn_dm0NHwpA",
    "outputId": "6c3628c7-6f29-433d-f13a-4af07b848372"
   },
   "outputs": [],
   "source": [
    "# Ploting the histogram for Price Per Square Feet vs Count\n",
    "plt.hist(df.price_per_sqft,rwidth=0.8)\n",
    "plt.xlabel(\"Price Per Square Feet\")\n",
    "plt.ylabel(\"Count\")"
   ]
  },
  {
   "cell_type": "code",
   "execution_count": null,
   "metadata": {
    "colab": {
     "base_uri": "https://localhost:8080/",
     "height": 405
    },
    "executionInfo": {
     "elapsed": 782,
     "status": "ok",
     "timestamp": 1601876554783,
     "user": {
      "displayName": "Pianalytix Vrec",
      "photoUrl": "",
      "userId": "08286299111597749388"
     },
     "user_tz": -330
    },
    "id": "rKWWAILDHwpC",
    "outputId": "0f2dd242-35dc-4368-cf5b-6d5b8ad2bc68"
   },
   "outputs": [],
   "source": [
    "# Ploting the histogram for Number of bathrooms vs Count\n",
    "plt.hist(df.bath,rwidth=0.8)\n",
    "plt.xlabel(\"Number of bathrooms\")\n",
    "plt.ylabel(\"Count\")"
   ]
  },
  {
   "cell_type": "code",
   "execution_count": null,
   "metadata": {
    "colab": {
     "base_uri": "https://localhost:8080/",
     "height": 195
    },
    "executionInfo": {
     "elapsed": 19513,
     "status": "ok",
     "timestamp": 1601876611227,
     "user": {
      "displayName": "Pianalytix Vrec",
      "photoUrl": "",
      "userId": "08286299111597749388"
     },
     "user_tz": -330
    },
    "id": "Yj7H-qoDHwpE",
    "outputId": "f56fbae7-d2b3-439a-fda5-f40db6109bc5"
   },
   "outputs": [],
   "source": [
    "df[df.bath>10]"
   ]
  },
  {
   "cell_type": "markdown",
   "metadata": {
    "id": "TX9vCMu4HwpG"
   },
   "source": [
    "It is unusual to have 2 more bathrooms than number of bedrooms in a home. So we are discarding that also."
   ]
  },
  {
   "cell_type": "code",
   "execution_count": null,
   "metadata": {
    "colab": {
     "base_uri": "https://localhost:8080/",
     "height": 166
    },
    "executionInfo": {
     "elapsed": 836,
     "status": "ok",
     "timestamp": 1601876684818,
     "user": {
      "displayName": "Pianalytix Vrec",
      "photoUrl": "",
      "userId": "08286299111597749388"
     },
     "user_tz": -330
    },
    "id": "uzyulubwHwpH",
    "outputId": "955833b8-e7d6-4a0d-c402-4bfb1e5bc734"
   },
   "outputs": [],
   "source": [
    "df[df.bath>df.BHK+2]"
   ]
  },
  {
   "cell_type": "code",
   "execution_count": null,
   "metadata": {
    "colab": {
     "base_uri": "https://localhost:8080/",
     "height": 195
    },
    "executionInfo": {
     "elapsed": 1168,
     "status": "ok",
     "timestamp": 1601876688093,
     "user": {
      "displayName": "Pianalytix Vrec",
      "photoUrl": "",
      "userId": "08286299111597749388"
     },
     "user_tz": -330
    },
    "id": "L2w_DvrqHwpJ",
    "outputId": "1c97e0d9-7953-439c-adb3-63cd38c006f3"
   },
   "outputs": [],
   "source": [
    "df.head()"
   ]
  },
  {
   "cell_type": "code",
   "execution_count": null,
   "metadata": {
    "colab": {
     "base_uri": "https://localhost:8080/",
     "height": 34
    },
    "executionInfo": {
     "elapsed": 910,
     "status": "ok",
     "timestamp": 1601876702412,
     "user": {
      "displayName": "Pianalytix Vrec",
      "photoUrl": "",
      "userId": "08286299111597749388"
     },
     "user_tz": -330
    },
    "id": "rpq1I7-wSoxq",
    "outputId": "53c4e661-03b1-4b0f-8a82-3493a1f65b85"
   },
   "outputs": [],
   "source": [
    "df.shape"
   ]
  },
  {
   "cell_type": "markdown",
   "metadata": {
    "id": "QU09ScFLHwpM"
   },
   "source": [
    "### Using One Hot Encoding for Location"
   ]
  },
  {
   "cell_type": "code",
   "execution_count": null,
   "metadata": {
    "colab": {
     "base_uri": "https://localhost:8080/",
     "height": 294
    },
    "executionInfo": {
     "elapsed": 931,
     "status": "ok",
     "timestamp": 1601876757055,
     "user": {
      "displayName": "Pianalytix Vrec",
      "photoUrl": "",
      "userId": "08286299111597749388"
     },
     "user_tz": -330
    },
    "id": "aIyf09FYHwpM",
    "outputId": "17691331-0696-4f63-ce3d-3d0be89127da"
   },
   "outputs": [],
   "source": [
    "dummies = pd.get_dummies(df.location)\n",
    "dummies.head(20)"
   ]
  },
  {
   "cell_type": "code",
   "execution_count": null,
   "metadata": {
    "colab": {
     "base_uri": "https://localhost:8080/",
     "height": 738
    },
    "executionInfo": {
     "elapsed": 1070,
     "status": "ok",
     "timestamp": 1601876804440,
     "user": {
      "displayName": "Pianalytix Vrec",
      "photoUrl": "",
      "userId": "08286299111597749388"
     },
     "user_tz": -330
    },
    "id": "_FdHKT0CTDVp",
    "outputId": "235eafc5-10cd-4174-b118-2603ffe71438"
   },
   "outputs": [],
   "source": [
    "dummies.head(20)"
   ]
  },
  {
   "cell_type": "markdown",
   "metadata": {
    "id": "m3_fjnUnHwpP"
   },
   "source": [
    "### Concatinating both the dataframes together"
   ]
  },
  {
   "cell_type": "code",
   "execution_count": null,
   "metadata": {
    "colab": {
     "base_uri": "https://localhost:8080/",
     "height": 378
    },
    "executionInfo": {
     "elapsed": 809,
     "status": "ok",
     "timestamp": 1601876852594,
     "user": {
      "displayName": "Pianalytix Vrec",
      "photoUrl": "",
      "userId": "08286299111597749388"
     },
     "user_tz": -330
    },
    "id": "KMKC8ApcHwpP",
    "outputId": "38554cf7-d5e3-4fe0-bf31-040dec4168ad"
   },
   "outputs": [],
   "source": [
    "df = pd.concat([df,dummies.drop('other',axis='columns')],axis='columns')\n",
    "df.head()"
   ]
  },
  {
   "cell_type": "code",
   "execution_count": null,
   "metadata": {
    "colab": {
     "base_uri": "https://localhost:8080/",
     "height": 378
    },
    "executionInfo": {
     "elapsed": 2390,
     "status": "ok",
     "timestamp": 1601876881167,
     "user": {
      "displayName": "Pianalytix Vrec",
      "photoUrl": "",
      "userId": "08286299111597749388"
     },
     "user_tz": -330
    },
    "id": "jJDycRb2HwpT",
    "outputId": "8a87fceb-ec8d-4131-a386-d0b70558120f"
   },
   "outputs": [],
   "source": [
    "df = df.drop('location',axis='columns')\n",
    "df.head()"
   ]
  },
  {
   "cell_type": "code",
   "execution_count": null,
   "metadata": {
    "colab": {
     "base_uri": "https://localhost:8080/",
     "height": 378
    },
    "executionInfo": {
     "elapsed": 972,
     "status": "ok",
     "timestamp": 1601876894987,
     "user": {
      "displayName": "Pianalytix Vrec",
      "photoUrl": "",
      "userId": "08286299111597749388"
     },
     "user_tz": -330
    },
    "id": "ZBQJbQpDHwpV",
    "outputId": "f0b1fc7c-284a-4501-8cd2-a2421c1b48cf"
   },
   "outputs": [],
   "source": [
    "X = df.drop(['price'],axis='columns')\n",
    "X.head()"
   ]
  },
  {
   "cell_type": "code",
   "execution_count": null,
   "metadata": {
    "colab": {
     "base_uri": "https://localhost:8080/",
     "height": 294
    },
    "executionInfo": {
     "elapsed": 1040,
     "status": "ok",
     "timestamp": 1601876943518,
     "user": {
      "displayName": "Pianalytix Vrec",
      "photoUrl": "",
      "userId": "08286299111597749388"
     },
     "user_tz": -330
    },
    "id": "0qrbrdAVTj_3",
    "outputId": "082f66cd-4cd3-47dc-a66c-bb6578309d3f"
   },
   "outputs": [],
   "source": [
    "X = df.drop(['size'],axis='columns')\n",
    "X.head()"
   ]
  },
  {
   "cell_type": "code",
   "execution_count": null,
   "metadata": {
    "colab": {
     "base_uri": "https://localhost:8080/",
     "height": 118
    },
    "executionInfo": {
     "elapsed": 761,
     "status": "ok",
     "timestamp": 1601877087047,
     "user": {
      "displayName": "Pianalytix Vrec",
      "photoUrl": "",
      "userId": "08286299111597749388"
     },
     "user_tz": -330
    },
    "id": "p-i_7PK0Hwpa",
    "outputId": "2ea12f44-169c-413a-ce79-a141465b8eeb"
   },
   "outputs": [],
   "source": [
    "y = df.price\n",
    "y.head()"
   ]
  },
  {
   "cell_type": "code",
   "execution_count": null,
   "metadata": {
    "colab": {
     "base_uri": "https://localhost:8080/",
     "height": 294
    },
    "executionInfo": {
     "elapsed": 1004,
     "status": "ok",
     "timestamp": 1601877123032,
     "user": {
      "displayName": "Pianalytix Vrec",
      "photoUrl": "",
      "userId": "08286299111597749388"
     },
     "user_tz": -330
    },
    "id": "2jdSQMLnHwpe",
    "outputId": "06d397bb-5945-46d9-bf5b-0d03e9635672"
   },
   "outputs": [],
   "source": [
    "X = X.drop(['price_per_sqft'],axis='columns')\n",
    "X.head()"
   ]
  },
  {
   "cell_type": "code",
   "execution_count": null,
   "metadata": {
    "colab": {
     "base_uri": "https://localhost:8080/",
     "height": 294
    },
    "executionInfo": {
     "elapsed": 967,
     "status": "ok",
     "timestamp": 1601877174148,
     "user": {
      "displayName": "Pianalytix Vrec",
      "photoUrl": "",
      "userId": "08286299111597749388"
     },
     "user_tz": -330
    },
    "id": "0-7ZrrD0UcdJ",
    "outputId": "bdf46e96-d8c3-4243-9e8f-ce65f44e626b"
   },
   "outputs": [],
   "source": [
    "X = X.drop(['price'],axis='columns')\n",
    "X.head()"
   ]
  },
  {
   "cell_type": "code",
   "execution_count": null,
   "metadata": {
    "colab": {
     "base_uri": "https://localhost:8080/",
     "height": 34
    },
    "executionInfo": {
     "elapsed": 738,
     "status": "ok",
     "timestamp": 1601877184766,
     "user": {
      "displayName": "Pianalytix Vrec",
      "photoUrl": "",
      "userId": "08286299111597749388"
     },
     "user_tz": -330
    },
    "id": "X3OjLqf4Hwpf",
    "outputId": "ff542533-f7bf-444a-dd28-f862cbed640c"
   },
   "outputs": [],
   "source": [
    "X.shape"
   ]
  },
  {
   "cell_type": "code",
   "execution_count": null,
   "metadata": {
    "colab": {
     "base_uri": "https://localhost:8080/",
     "height": 34
    },
    "executionInfo": {
     "elapsed": 1135,
     "status": "ok",
     "timestamp": 1601877216969,
     "user": {
      "displayName": "Pianalytix Vrec",
      "photoUrl": "",
      "userId": "08286299111597749388"
     },
     "user_tz": -330
    },
    "id": "U0x4hcUwUnRp",
    "outputId": "27b165f2-b338-4c6f-cd49-40fda9ddec47"
   },
   "outputs": [],
   "source": [
    "y.shape"
   ]
  },
  {
   "cell_type": "markdown",
   "metadata": {
    "id": "1g0k7U5tHwpi"
   },
   "source": [
    "### Train-Test Split"
   ]
  },
  {
   "cell_type": "code",
   "execution_count": null,
   "metadata": {
    "executionInfo": {
     "elapsed": 918,
     "status": "ok",
     "timestamp": 1601877302084,
     "user": {
      "displayName": "Pianalytix Vrec",
      "photoUrl": "",
      "userId": "08286299111597749388"
     },
     "user_tz": -330
    },
    "id": "vlHy9EoTHwpi"
   },
   "outputs": [],
   "source": [
    "X_train, X_test, y_train, y_test = train_test_split(X,y,test_size=0.3,random_state=42)"
   ]
  },
  {
   "cell_type": "code",
   "execution_count": null,
   "metadata": {
    "colab": {
     "base_uri": "https://localhost:8080/",
     "height": 34
    },
    "executionInfo": {
     "elapsed": 802,
     "status": "ok",
     "timestamp": 1601877312654,
     "user": {
      "displayName": "Pianalytix Vrec",
      "photoUrl": "",
      "userId": "08286299111597749388"
     },
     "user_tz": -330
    },
    "id": "myiOuIb8Hwpk",
    "outputId": "d9c0e8a5-fe3c-4d2a-e367-8456de13514d"
   },
   "outputs": [],
   "source": [
    "lr_clf = LinearRegression()\n",
    "lr_clf.fit(X_train,y_train)\n",
    "lr_clf.score(X_test,y_test)"
   ]
  },
  {
   "cell_type": "code",
   "execution_count": null,
   "metadata": {
    "colab": {
     "base_uri": "https://localhost:8080/",
     "height": 34
    },
    "executionInfo": {
     "elapsed": 1775,
     "status": "ok",
     "timestamp": 1601877490656,
     "user": {
      "displayName": "Pianalytix Vrec",
      "photoUrl": "",
      "userId": "08286299111597749388"
     },
     "user_tz": -330
    },
    "id": "mdPy68zgHwpl",
    "outputId": "d6218f5c-56e8-438f-b210-f63afd8d70f7"
   },
   "outputs": [],
   "source": [
    "cv = ShuffleSplit(n_splits=5, test_size=0.2, random_state=0)\n",
    "cross_val_score(LinearRegression(), X, y, cv=cv)"
   ]
  },
  {
   "cell_type": "markdown",
   "metadata": {
    "id": "7yic8u7IHwpp"
   },
   "source": [
    "Here we are using Grid Search CV for 3 different types of Regression models.\n",
    "\n",
    "1. Linear Regression\n",
    "2. Lasso Regression\n",
    "3. Decision Tree Regression"
   ]
  },
  {
   "cell_type": "markdown",
   "metadata": {
    "id": "YstZUy7OHwpq"
   },
   "source": [
    "### Model Building"
   ]
  },
  {
   "cell_type": "code",
   "execution_count": null,
   "metadata": {
    "executionInfo": {
     "elapsed": 1016,
     "status": "ok",
     "timestamp": 1601877827174,
     "user": {
      "displayName": "Pianalytix Vrec",
      "photoUrl": "",
      "userId": "08286299111597749388"
     },
     "user_tz": -330
    },
    "id": "2quN2DQEHwpq"
   },
   "outputs": [],
   "source": [
    "def find_best_model_using_gridsearchcv(X,y):\n",
    "    algos = {\n",
    "        'linear_regression' : {\n",
    "            'model': LinearRegression(),\n",
    "            'params': {\n",
    "                'normalize': [True, False]\n",
    "            }\n",
    "        },\n",
    "        'lasso': {\n",
    "            'model': Lasso(),\n",
    "            'params': {\n",
    "                'alpha': [1,2],\n",
    "                'selection': ['random', 'cyclic']\n",
    "            }\n",
    "        },\n",
    "        'decision_tree': {\n",
    "            'model': DecisionTreeRegressor(),\n",
    "            'params': {\n",
    "                'criterion' : ['mse','friedman_mse'],\n",
    "                'splitter': ['best','random']\n",
    "            }\n",
    "        }\n",
    "    }\n",
    "    scores = []\n",
    "    cv = ShuffleSplit(n_splits=5, test_size=0.2, random_state=0)\n",
    "    for algo_name, config in algos.items():\n",
    "        gs =  GridSearchCV(config['model'], config['params'], cv=cv, return_train_score=False)\n",
    "        gs.fit(X,y)\n",
    "        scores.append({\n",
    "            'model': algo_name,\n",
    "            'best_score': gs.best_score_,\n",
    "            'best_params': gs.best_params_\n",
    "        })\n",
    "\n",
    "    return pd.DataFrame(scores,columns=['model','best_score','best_params'])"
   ]
  },
  {
   "cell_type": "markdown",
   "metadata": {
    "id": "-tTp8QEAHwpr"
   },
   "source": [
    "### Model Evaluation"
   ]
  },
  {
   "cell_type": "code",
   "execution_count": null,
   "metadata": {
    "colab": {
     "base_uri": "https://localhost:8080/",
     "height": 136
    },
    "executionInfo": {
     "elapsed": 9141,
     "status": "ok",
     "timestamp": 1601877866293,
     "user": {
      "displayName": "Pianalytix Vrec",
      "photoUrl": "",
      "userId": "08286299111597749388"
     },
     "user_tz": -330
    },
    "id": "uBJFK_GEHwps",
    "outputId": "4e5cd3a5-9ff5-4148-d15b-b153f170e731"
   },
   "outputs": [],
   "source": [
    "find_best_model_using_gridsearchcv(X,y)"
   ]
  },
  {
   "cell_type": "markdown",
   "metadata": {
    "id": "QxueEUu6Hwpt"
   },
   "source": [
    "### Model Testing"
   ]
  },
  {
   "cell_type": "code",
   "execution_count": null,
   "metadata": {
    "executionInfo": {
     "elapsed": 921,
     "status": "ok",
     "timestamp": 1601877986504,
     "user": {
      "displayName": "Pianalytix Vrec",
      "photoUrl": "",
      "userId": "08286299111597749388"
     },
     "user_tz": -330
    },
    "id": "t0gZSZDSHwpu"
   },
   "outputs": [],
   "source": [
    "def predict_price(location,sqft,bath,bhk):    \n",
    "    loc_index = np.where(X.columns==location)[0][0]\n",
    "\n",
    "    x = np.zeros(len(X.columns))\n",
    "    x[0] = sqft\n",
    "    x[1] = bath\n",
    "    x[2] = bhk\n",
    "    if loc_index >= 0:\n",
    "        x[loc_index] = 1\n",
    "\n",
    "    return lr_clf.predict([x])[0]"
   ]
  },
  {
   "cell_type": "markdown",
   "metadata": {
    "id": "JlTzYkxyHwpx"
   },
   "source": [
    "Here we are predicting the house prices based on Location, Size, Bathroom, and BHK"
   ]
  },
  {
   "cell_type": "code",
   "execution_count": null,
   "metadata": {
    "colab": {
     "base_uri": "https://localhost:8080/",
     "height": 34
    },
    "executionInfo": {
     "elapsed": 867,
     "status": "ok",
     "timestamp": 1601878007474,
     "user": {
      "displayName": "Pianalytix Vrec",
      "photoUrl": "",
      "userId": "08286299111597749388"
     },
     "user_tz": -330
    },
    "id": "ufJ_2HVgHwpx",
    "outputId": "30d10694-8aac-4a4f-e926-cb8e8768cdd0"
   },
   "outputs": [],
   "source": [
    "predict_price('1st Phase JP Nagar',1000, 2, 2)"
   ]
  },
  {
   "cell_type": "code",
   "execution_count": null,
   "metadata": {
    "colab": {
     "base_uri": "https://localhost:8080/",
     "height": 378
    },
    "executionInfo": {
     "elapsed": 1206,
     "status": "ok",
     "timestamp": 1601878094540,
     "user": {
      "displayName": "Pianalytix Vrec",
      "photoUrl": "",
      "userId": "08286299111597749388"
     },
     "user_tz": -330
    },
    "id": "tKJCCHsqX9ln",
    "outputId": "9ecfddbf-c6aa-403e-fb5b-235bb10d058a"
   },
   "outputs": [],
   "source": [
    "df.head()"
   ]
  },
  {
   "cell_type": "code",
   "execution_count": null,
   "metadata": {
    "colab": {
     "base_uri": "https://localhost:8080/",
     "height": 34
    },
    "executionInfo": {
     "elapsed": 843,
     "status": "ok",
     "timestamp": 1601878140411,
     "user": {
      "displayName": "Pianalytix Vrec",
      "photoUrl": "",
      "userId": "08286299111597749388"
     },
     "user_tz": -330
    },
    "id": "ulsdVB0rXx2_",
    "outputId": "f5e628b8-b2cb-4991-cf97-1e9dc57fd6a3"
   },
   "outputs": [],
   "source": [
    "predict_price('Banashankari Stage V',2000, 3, 3)"
   ]
  },
  {
   "cell_type": "code",
   "execution_count": null,
   "metadata": {
    "colab": {
     "base_uri": "https://localhost:8080/",
     "height": 34
    },
    "executionInfo": {
     "elapsed": 1058,
     "status": "ok",
     "timestamp": 1601878113543,
     "user": {
      "displayName": "Pianalytix Vrec",
      "photoUrl": "",
      "userId": "08286299111597749388"
     },
     "user_tz": -330
    },
    "id": "UG9c714CHwp0",
    "outputId": "42188149-3c60-4a87-e0cc-57b7d128e993"
   },
   "outputs": [],
   "source": [
    "predict_price('2nd Stage Nagarbhavi',5000, 2, 2)"
   ]
  },
  {
   "cell_type": "code",
   "execution_count": null,
   "metadata": {
    "colab": {
     "base_uri": "https://localhost:8080/",
     "height": 34
    },
    "executionInfo": {
     "elapsed": 638,
     "status": "ok",
     "timestamp": 1601878061784,
     "user": {
      "displayName": "Pianalytix Vrec",
      "photoUrl": "",
      "userId": "08286299111597749388"
     },
     "user_tz": -330
    },
    "id": "unYeZHPlHwp3",
    "outputId": "2d789efa-d1d4-4d03-d946-17ab71602d45"
   },
   "outputs": [],
   "source": [
    "predict_price('Indira Nagar',1500, 3, 3)"
   ]
  },
  {
   "cell_type": "markdown",
   "metadata": {
    "id": "Rft4LfXzHwp4"
   },
   "source": [
    "### Conclusion"
   ]
  },
  {
   "cell_type": "markdown",
   "metadata": {
    "id": "vLyQP8i4Hwp5"
   },
   "source": [
    "### From all the above models, we can clearly say that Linear Regression perform best for this dataset."
   ]
  }
 ],
 "metadata": {
  "colab": {
   "collapsed_sections": [
    "1g0k7U5tHwpi",
    "YstZUy7OHwpq",
    "-tTp8QEAHwpr",
    "QxueEUu6Hwpt",
    "Rft4LfXzHwp4",
    "vLyQP8i4Hwp5"
   ],
   "name": "Bangalore House Price Prediction.ipynb",
   "provenance": []
  },
  "kernelspec": {
   "display_name": "Python 3",
   "language": "python",
   "name": "python3"
  },
  "language_info": {
   "codemirror_mode": {
    "name": "ipython",
    "version": 3
   },
   "file_extension": ".py",
   "mimetype": "text/x-python",
   "name": "python",
   "nbconvert_exporter": "python",
   "pygments_lexer": "ipython3",
   "version": "3.9.5"
  }
 },
 "nbformat": 4,
 "nbformat_minor": 1
}
